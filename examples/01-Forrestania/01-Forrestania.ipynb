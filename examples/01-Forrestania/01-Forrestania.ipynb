{
 "cells": [
  {
   "cell_type": "markdown",
   "metadata": {},
   "source": [
    "# 01-Forrestania\n",
    "## Forrestania Nickel Project Demo\n",
    "\n",
    "In this notebook, we will investigate the distribution of elements along drillholes from the Forrestania Nickel Project (Western Australia). The datasets used here have been only lightly modified from the original data downloaded for free from the Western Australia Exploration Geochemistry Online Portal ([here](https://wamexgeochem.net.au/dh_query_page))."
   ]
  },
  {
   "cell_type": "code",
   "execution_count": null,
   "metadata": {},
   "outputs": [],
   "source": [
    "import drilldown as dd\n",
    "import pandas as pd"
   ]
  },
  {
   "cell_type": "code",
   "execution_count": null,
   "metadata": {},
   "outputs": [],
   "source": [
    "collar_data = pd.read_csv(\"collar_data_Forrestania.csv\")\n",
    "survey_data = pd.read_csv(\"survey_data_Forrestania.csv\")\n",
    "assay_data = pd.read_csv(\"assay_data_Forrestania.csv\")"
   ]
  },
  {
   "cell_type": "code",
   "execution_count": null,
   "metadata": {},
   "outputs": [],
   "source": [
    "collars = dd.Collars()\n",
    "collars.add_data(collar_data[\"companyholeid\"], collar_data[[\"x\", \"y\", \"elevation\"]])"
   ]
  },
  {
   "cell_type": "code",
   "execution_count": null,
   "metadata": {},
   "outputs": [],
   "source": [
    "collars.show()"
   ]
  },
  {
   "cell_type": "code",
   "execution_count": null,
   "metadata": {},
   "outputs": [],
   "source": [
    "surveys = dd.Surveys()\n",
    "surveys.add_data(survey_data[\"companyholeid\"], survey_data[\"depth\"], survey_data[\"calcazi\"], survey_data[\"calcdip\"])\n",
    "surveys.locate(collars)\n",
    "surveys.show()"
   ]
  },
  {
   "cell_type": "code",
   "execution_count": null,
   "metadata": {},
   "outputs": [],
   "source": [
    "assay_vars = [\"As_PPM\", \"Cu_PPM\", \"Ni_PPM\", \"Co_PPM\", \"Cr_PPM\", \"Au_PPM\", \"Zn_PPM\"]\n",
    "\n",
    "assays = dd.Intervals()\n",
    "assays.add_data(\n",
    "    assay_vars, assay_data[\"companyholeid\"], assay_data[[\"fromdepth\", \"todepth\"]], assay_data[assay_vars]\n",
    ")\n",
    "assays.desurvey(surveys)"
   ]
  },
  {
   "cell_type": "markdown",
   "metadata": {},
   "source": [
    "#### Next we'll create a plotter object and add the drillhole data to it."
   ]
  },
  {
   "cell_type": "code",
   "execution_count": null,
   "metadata": {},
   "outputs": [],
   "source": [
    "plotter = dd.DrillDownTramePlotter()\n",
    "\n",
    "# add holes to plotter\n",
    "plotter.add_collars(collars)\n",
    "plotter.add_surveys(surveys)\n",
    "plotter.add_intervals(assays, \"assays\", active_var=\"Ni_PPM\", radius=10);"
   ]
  },
  {
   "cell_type": "code",
   "execution_count": null,
   "metadata": {},
   "outputs": [],
   "source": [
    "plotter.show()"
   ]
  },
  {
   "cell_type": "markdown",
   "metadata": {},
   "source": [
    "Click an interval along a drillhole to select it. View the corresponding data below."
   ]
  },
  {
   "cell_type": "code",
   "execution_count": null,
   "metadata": {},
   "outputs": [],
   "source": [
    "plotter.selected_data()"
   ]
  },
  {
   "cell_type": "markdown",
   "metadata": {},
   "source": [
    "Shift-click elsewhere along the same drillhole to select multiple continuous intervals. The data can be viewed the same way as before. This time, we'll just view a summary of the selected dataset."
   ]
  },
  {
   "cell_type": "code",
   "execution_count": null,
   "metadata": {},
   "outputs": [],
   "source": [
    "data = plotter.selected_data()\n",
    "data.head()"
   ]
  },
  {
   "cell_type": "markdown",
   "metadata": {},
   "source": [
    "Data selections entirely within one hole can be viewed as a drill log, as follows: "
   ]
  },
  {
   "cell_type": "code",
   "execution_count": null,
   "metadata": {},
   "outputs": [],
   "source": [
    "plotter.selected_drill_log()"
   ]
  },
  {
   "cell_type": "markdown",
   "metadata": {},
   "source": [
    "Finally, we can apply boolean filters to the data and visualize the results. In the example below, we show only intervals with a Ni concentration greater than 1000 ppm (0.1 wt %)."
   ]
  },
  {
   "cell_type": "code",
   "execution_count": null,
   "metadata": {},
   "outputs": [],
   "source": [
    "data = plotter.all_interval_data()\n",
    "Ni_filter = data[\"Ni_PPM\"] > 1000\n",
    "plotter.data_filter = Ni_filter"
   ]
  },
  {
   "cell_type": "code",
   "execution_count": null,
   "metadata": {},
   "outputs": [],
   "source": []
  }
 ],
 "metadata": {
  "kernelspec": {
   "display_name": "Python 3 (ipykernel)",
   "language": "python",
   "name": "python3"
  },
  "language_info": {
   "codemirror_mode": {
    "name": "ipython",
    "version": 3
   },
   "file_extension": ".py",
   "mimetype": "text/x-python",
   "name": "python",
   "nbconvert_exporter": "python",
   "pygments_lexer": "ipython3",
   "version": "3.10.13"
  }
 },
 "nbformat": 4,
 "nbformat_minor": 4
}
